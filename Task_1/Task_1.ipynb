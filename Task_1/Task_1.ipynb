{
 "cells": [
  {
   "cell_type": "code",
   "execution_count": 1,
   "id": "ef6df75f",
   "metadata": {},
   "outputs": [],
   "source": [
    "# Task 1"
   ]
  },
  {
   "cell_type": "code",
   "execution_count": 3,
   "id": "aedfb5da",
   "metadata": {},
   "outputs": [
    {
     "name": "stdout",
     "output_type": "stream",
     "text": [
      "the summ is: 5.000000000000001e+49, which took 0.0 seconds\n"
     ]
    },
    {
     "data": {
      "text/plain": [
       "\"\\nless sophisticated approach (much longer execution). I wouldn't recommend running it\\nwithout supervision unless you want things to spiral out of control and turn into a full-blown disaster.\\n\""
      ]
     },
     "execution_count": 3,
     "metadata": {},
     "output_type": "execute_result"
    }
   ],
   "source": [
    "import time as tm\n",
    "\n",
    "start_time = tm.time()\n",
    "# Gauss approach\n",
    "n = 10**25\n",
    "summation = n/2*(1+n)\n",
    "end_time = tm.time()\n",
    "duration = end_time - start_time\n",
    "print(f'the summ is: {summation}, which took {duration} seconds')\n",
    "\n",
    "\n",
    "\"\"\"\n",
    "less sophisticated approach (much longer execution). I wouldn't recommend running it\n",
    "without supervision unless you want things to spiral out of control and turn into a full-blown disaster.\n",
    "\"\"\"\n",
    "# num = 10**25\n",
    "# count = 0\n",
    "# start_time = tm.time()\n",
    "# for i in range(num+1):\n",
    "#     count += i\n",
    "# end_time = tm.time()\n",
    "# duration = end_time - start_time\n",
    "# print(f'the summ is: {count}, which took {duration} seconds')"
   ]
  },
  {
   "cell_type": "code",
   "execution_count": null,
   "id": "445e1464",
   "metadata": {},
   "outputs": [],
   "source": []
  }
 ],
 "metadata": {
  "kernelspec": {
   "display_name": "Python 3 (ipykernel)",
   "language": "python",
   "name": "python3"
  },
  "language_info": {
   "codemirror_mode": {
    "name": "ipython",
    "version": 3
   },
   "file_extension": ".py",
   "mimetype": "text/x-python",
   "name": "python",
   "nbconvert_exporter": "python",
   "pygments_lexer": "ipython3",
   "version": "3.9.13"
  }
 },
 "nbformat": 4,
 "nbformat_minor": 5
}
