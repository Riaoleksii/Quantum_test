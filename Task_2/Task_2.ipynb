{
 "cells": [
  {
   "cell_type": "code",
   "execution_count": 4,
   "id": "e72b9d7a",
   "metadata": {},
   "outputs": [],
   "source": [
    "# Task 2"
   ]
  },
  {
   "cell_type": "code",
   "execution_count": 5,
   "id": "a87003fa",
   "metadata": {},
   "outputs": [
    {
     "name": "stdout",
     "output_type": "stream",
     "text": [
      "2\n",
      "3\n",
      "2\n"
     ]
    }
   ],
   "source": [
    "# importing numpy module to extend matrix with auxiliary rows and columns\n",
    "import numpy as np\n",
    "\n",
    "# creatin function that counts islands. Matrix is an input\n",
    "def count_islands(matrix):\n",
    "    #adding additional rows and columns with zeros to eliminate index errors (out of range)\n",
    "    expanded_matrix = np.pad(matrix, ((1,1),(1,1)), mode='constant')\n",
    "    #container where we store number of islands  \n",
    "    count = 0\n",
    "    #creating a loop that goes through the whole matrix. Do not include in the range auxiliary rows and columns\n",
    "    for i in range(len(expanded_matrix)-1):\n",
    "        for j in range(len(expanded_matrix[0])-1):\n",
    "            #first condition: if there is an \"ocean\" (zero) then skip\n",
    "            if expanded_matrix[i+1][j+1]==0:\n",
    "                continue\n",
    "                \n",
    "            #Second condition: check if there is an \"island\" (a connected group of cells) and \n",
    "            #determine if the current cell is the last part of it. There should be no islands located \n",
    "            #at the bottom or on the right side of the grid.\n",
    "            elif expanded_matrix[i+1][j+1]==1:\n",
    "                if expanded_matrix[i+1+1][j+1]==0 and expanded_matrix[i+1][j+1+1]==0:\n",
    "                    #Store island in the container\n",
    "                    count += 1\n",
    "\n",
    "    return count\n",
    "\n",
    "#Checking results\n",
    "dict_of_maps = {\n",
    "'a':[[0, 1, 0],\n",
    "     [0, 0, 0],\n",
    "     [0, 1, 1]], \n",
    "'b':[[0, 0, 0, 1],\n",
    "     [0, 0, 1, 0],\n",
    "     [0, 1, 0, 0]],\n",
    "'c':[[0, 0, 0, 1],\n",
    "     [0, 0, 1, 1],\n",
    "     [0, 1, 0, 1]]}\n",
    "\n",
    "for key in dict_of_maps:\n",
    "    print(count_islands(dict_of_maps[key]))"
   ]
  },
  {
   "cell_type": "code",
   "execution_count": null,
   "id": "ae9c0daa",
   "metadata": {},
   "outputs": [],
   "source": []
  }
 ],
 "metadata": {
  "kernelspec": {
   "display_name": "Python 3 (ipykernel)",
   "language": "python",
   "name": "python3"
  },
  "language_info": {
   "codemirror_mode": {
    "name": "ipython",
    "version": 3
   },
   "file_extension": ".py",
   "mimetype": "text/x-python",
   "name": "python",
   "nbconvert_exporter": "python",
   "pygments_lexer": "ipython3",
   "version": "3.9.13"
  }
 },
 "nbformat": 4,
 "nbformat_minor": 5
}
