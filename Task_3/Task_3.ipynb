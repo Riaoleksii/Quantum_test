{
 "cells": [
  {
   "cell_type": "code",
   "execution_count": 5,
   "id": "b33b6a2c",
   "metadata": {},
   "outputs": [],
   "source": [
    "#Task 3"
   ]
  },
  {
   "cell_type": "code",
   "execution_count": 1,
   "id": "2473627f",
   "metadata": {},
   "outputs": [],
   "source": [
    "import pandas as pd\n",
    "import matplotlib.pyplot as plt\n",
    "from sklearn.model_selection import train_test_split\n",
    "import numpy as np\n",
    "import seaborn as sns"
   ]
  },
  {
   "cell_type": "code",
   "execution_count": 2,
   "id": "b317858d",
   "metadata": {},
   "outputs": [],
   "source": [
    "#importing datasets\n",
    "df_train = pd.read_csv('./Quantum internship/internship_train.csv')\n",
    "df_test = pd.read_csv('./Quantum internship/internship_hidden_test.csv')"
   ]
  },
  {
   "cell_type": "code",
   "execution_count": 3,
   "id": "bb2896a3",
   "metadata": {},
   "outputs": [
    {
     "data": {
      "text/html": [
       "<div>\n",
       "<style scoped>\n",
       "    .dataframe tbody tr th:only-of-type {\n",
       "        vertical-align: middle;\n",
       "    }\n",
       "\n",
       "    .dataframe tbody tr th {\n",
       "        vertical-align: top;\n",
       "    }\n",
       "\n",
       "    .dataframe thead th {\n",
       "        text-align: right;\n",
       "    }\n",
       "</style>\n",
       "<table border=\"1\" class=\"dataframe\">\n",
       "  <thead>\n",
       "    <tr style=\"text-align: right;\">\n",
       "      <th></th>\n",
       "      <th>0</th>\n",
       "      <th>1</th>\n",
       "      <th>2</th>\n",
       "      <th>3</th>\n",
       "      <th>4</th>\n",
       "      <th>5</th>\n",
       "      <th>6</th>\n",
       "      <th>7</th>\n",
       "      <th>8</th>\n",
       "      <th>9</th>\n",
       "      <th>...</th>\n",
       "      <th>44</th>\n",
       "      <th>45</th>\n",
       "      <th>46</th>\n",
       "      <th>47</th>\n",
       "      <th>48</th>\n",
       "      <th>49</th>\n",
       "      <th>50</th>\n",
       "      <th>51</th>\n",
       "      <th>52</th>\n",
       "      <th>target</th>\n",
       "    </tr>\n",
       "  </thead>\n",
       "  <tbody>\n",
       "    <tr>\n",
       "      <th>count</th>\n",
       "      <td>90000.000000</td>\n",
       "      <td>90000.000000</td>\n",
       "      <td>90000.000000</td>\n",
       "      <td>90000.000000</td>\n",
       "      <td>90000.000000</td>\n",
       "      <td>90000.000000</td>\n",
       "      <td>90000.000000</td>\n",
       "      <td>90000.000000</td>\n",
       "      <td>90000.000000</td>\n",
       "      <td>90000.000000</td>\n",
       "      <td>...</td>\n",
       "      <td>90000.000000</td>\n",
       "      <td>90000.000000</td>\n",
       "      <td>90000.000000</td>\n",
       "      <td>90000.000000</td>\n",
       "      <td>90000.000000</td>\n",
       "      <td>90000.000000</td>\n",
       "      <td>90000.000000</td>\n",
       "      <td>90000.000000</td>\n",
       "      <td>90000.000000</td>\n",
       "      <td>90000.000000</td>\n",
       "    </tr>\n",
       "    <tr>\n",
       "      <th>mean</th>\n",
       "      <td>249.423944</td>\n",
       "      <td>250.236267</td>\n",
       "      <td>248.637289</td>\n",
       "      <td>249.736600</td>\n",
       "      <td>249.436178</td>\n",
       "      <td>249.656167</td>\n",
       "      <td>-0.011402</td>\n",
       "      <td>0.498548</td>\n",
       "      <td>0.499189</td>\n",
       "      <td>249.842033</td>\n",
       "      <td>...</td>\n",
       "      <td>7.475155</td>\n",
       "      <td>7.523962</td>\n",
       "      <td>7.508397</td>\n",
       "      <td>7.473322</td>\n",
       "      <td>7.490658</td>\n",
       "      <td>7.474578</td>\n",
       "      <td>7.509206</td>\n",
       "      <td>7.487159</td>\n",
       "      <td>7.513316</td>\n",
       "      <td>50.033981</td>\n",
       "    </tr>\n",
       "    <tr>\n",
       "      <th>std</th>\n",
       "      <td>144.336393</td>\n",
       "      <td>144.022200</td>\n",
       "      <td>144.107577</td>\n",
       "      <td>144.284945</td>\n",
       "      <td>143.941581</td>\n",
       "      <td>144.329168</td>\n",
       "      <td>7.038171</td>\n",
       "      <td>0.288682</td>\n",
       "      <td>0.500002</td>\n",
       "      <td>144.612718</td>\n",
       "      <td>...</td>\n",
       "      <td>4.330410</td>\n",
       "      <td>4.321537</td>\n",
       "      <td>4.331761</td>\n",
       "      <td>4.335692</td>\n",
       "      <td>4.332122</td>\n",
       "      <td>4.323035</td>\n",
       "      <td>4.326364</td>\n",
       "      <td>4.324876</td>\n",
       "      <td>4.333080</td>\n",
       "      <td>28.897243</td>\n",
       "    </tr>\n",
       "    <tr>\n",
       "      <th>min</th>\n",
       "      <td>0.000000</td>\n",
       "      <td>0.000000</td>\n",
       "      <td>0.000000</td>\n",
       "      <td>0.000000</td>\n",
       "      <td>0.000000</td>\n",
       "      <td>0.000000</td>\n",
       "      <td>-9.949874</td>\n",
       "      <td>0.000014</td>\n",
       "      <td>0.000000</td>\n",
       "      <td>0.000000</td>\n",
       "      <td>...</td>\n",
       "      <td>0.000019</td>\n",
       "      <td>0.000040</td>\n",
       "      <td>0.000154</td>\n",
       "      <td>0.000083</td>\n",
       "      <td>0.000367</td>\n",
       "      <td>0.000014</td>\n",
       "      <td>0.000160</td>\n",
       "      <td>0.000147</td>\n",
       "      <td>0.000125</td>\n",
       "      <td>0.002634</td>\n",
       "    </tr>\n",
       "    <tr>\n",
       "      <th>25%</th>\n",
       "      <td>125.000000</td>\n",
       "      <td>126.000000</td>\n",
       "      <td>124.000000</td>\n",
       "      <td>125.000000</td>\n",
       "      <td>125.000000</td>\n",
       "      <td>124.000000</td>\n",
       "      <td>-7.071068</td>\n",
       "      <td>0.248932</td>\n",
       "      <td>0.000000</td>\n",
       "      <td>124.000000</td>\n",
       "      <td>...</td>\n",
       "      <td>3.707544</td>\n",
       "      <td>3.797002</td>\n",
       "      <td>3.760627</td>\n",
       "      <td>3.715721</td>\n",
       "      <td>3.739358</td>\n",
       "      <td>3.715298</td>\n",
       "      <td>3.773381</td>\n",
       "      <td>3.743536</td>\n",
       "      <td>3.776322</td>\n",
       "      <td>25.091903</td>\n",
       "    </tr>\n",
       "    <tr>\n",
       "      <th>50%</th>\n",
       "      <td>250.000000</td>\n",
       "      <td>251.000000</td>\n",
       "      <td>248.000000</td>\n",
       "      <td>250.000000</td>\n",
       "      <td>250.000000</td>\n",
       "      <td>250.000000</td>\n",
       "      <td>0.000000</td>\n",
       "      <td>0.497136</td>\n",
       "      <td>0.000000</td>\n",
       "      <td>250.000000</td>\n",
       "      <td>...</td>\n",
       "      <td>7.474127</td>\n",
       "      <td>7.533987</td>\n",
       "      <td>7.505259</td>\n",
       "      <td>7.459774</td>\n",
       "      <td>7.494167</td>\n",
       "      <td>7.477270</td>\n",
       "      <td>7.512575</td>\n",
       "      <td>7.476564</td>\n",
       "      <td>7.506812</td>\n",
       "      <td>50.030705</td>\n",
       "    </tr>\n",
       "    <tr>\n",
       "      <th>75%</th>\n",
       "      <td>374.000000</td>\n",
       "      <td>375.000000</td>\n",
       "      <td>374.000000</td>\n",
       "      <td>375.000000</td>\n",
       "      <td>373.000000</td>\n",
       "      <td>374.000000</td>\n",
       "      <td>7.000000</td>\n",
       "      <td>0.747513</td>\n",
       "      <td>1.000000</td>\n",
       "      <td>376.000000</td>\n",
       "      <td>...</td>\n",
       "      <td>11.216585</td>\n",
       "      <td>11.276349</td>\n",
       "      <td>11.261971</td>\n",
       "      <td>11.215637</td>\n",
       "      <td>11.239232</td>\n",
       "      <td>11.210070</td>\n",
       "      <td>11.268156</td>\n",
       "      <td>11.234414</td>\n",
       "      <td>11.277835</td>\n",
       "      <td>75.059454</td>\n",
       "    </tr>\n",
       "    <tr>\n",
       "      <th>max</th>\n",
       "      <td>499.000000</td>\n",
       "      <td>499.000000</td>\n",
       "      <td>499.000000</td>\n",
       "      <td>499.000000</td>\n",
       "      <td>499.000000</td>\n",
       "      <td>499.000000</td>\n",
       "      <td>9.949874</td>\n",
       "      <td>0.999987</td>\n",
       "      <td>1.000000</td>\n",
       "      <td>499.000000</td>\n",
       "      <td>...</td>\n",
       "      <td>14.999900</td>\n",
       "      <td>14.999528</td>\n",
       "      <td>14.999733</td>\n",
       "      <td>14.999478</td>\n",
       "      <td>14.999869</td>\n",
       "      <td>14.999928</td>\n",
       "      <td>14.999948</td>\n",
       "      <td>14.999364</td>\n",
       "      <td>14.999775</td>\n",
       "      <td>99.999482</td>\n",
       "    </tr>\n",
       "  </tbody>\n",
       "</table>\n",
       "<p>8 rows × 54 columns</p>\n",
       "</div>"
      ],
      "text/plain": [
       "                  0             1             2             3             4  \\\n",
       "count  90000.000000  90000.000000  90000.000000  90000.000000  90000.000000   \n",
       "mean     249.423944    250.236267    248.637289    249.736600    249.436178   \n",
       "std      144.336393    144.022200    144.107577    144.284945    143.941581   \n",
       "min        0.000000      0.000000      0.000000      0.000000      0.000000   \n",
       "25%      125.000000    126.000000    124.000000    125.000000    125.000000   \n",
       "50%      250.000000    251.000000    248.000000    250.000000    250.000000   \n",
       "75%      374.000000    375.000000    374.000000    375.000000    373.000000   \n",
       "max      499.000000    499.000000    499.000000    499.000000    499.000000   \n",
       "\n",
       "                  5             6             7             8             9  \\\n",
       "count  90000.000000  90000.000000  90000.000000  90000.000000  90000.000000   \n",
       "mean     249.656167     -0.011402      0.498548      0.499189    249.842033   \n",
       "std      144.329168      7.038171      0.288682      0.500002    144.612718   \n",
       "min        0.000000     -9.949874      0.000014      0.000000      0.000000   \n",
       "25%      124.000000     -7.071068      0.248932      0.000000    124.000000   \n",
       "50%      250.000000      0.000000      0.497136      0.000000    250.000000   \n",
       "75%      374.000000      7.000000      0.747513      1.000000    376.000000   \n",
       "max      499.000000      9.949874      0.999987      1.000000    499.000000   \n",
       "\n",
       "       ...            44            45            46            47  \\\n",
       "count  ...  90000.000000  90000.000000  90000.000000  90000.000000   \n",
       "mean   ...      7.475155      7.523962      7.508397      7.473322   \n",
       "std    ...      4.330410      4.321537      4.331761      4.335692   \n",
       "min    ...      0.000019      0.000040      0.000154      0.000083   \n",
       "25%    ...      3.707544      3.797002      3.760627      3.715721   \n",
       "50%    ...      7.474127      7.533987      7.505259      7.459774   \n",
       "75%    ...     11.216585     11.276349     11.261971     11.215637   \n",
       "max    ...     14.999900     14.999528     14.999733     14.999478   \n",
       "\n",
       "                 48            49            50            51            52  \\\n",
       "count  90000.000000  90000.000000  90000.000000  90000.000000  90000.000000   \n",
       "mean       7.490658      7.474578      7.509206      7.487159      7.513316   \n",
       "std        4.332122      4.323035      4.326364      4.324876      4.333080   \n",
       "min        0.000367      0.000014      0.000160      0.000147      0.000125   \n",
       "25%        3.739358      3.715298      3.773381      3.743536      3.776322   \n",
       "50%        7.494167      7.477270      7.512575      7.476564      7.506812   \n",
       "75%       11.239232     11.210070     11.268156     11.234414     11.277835   \n",
       "max       14.999869     14.999928     14.999948     14.999364     14.999775   \n",
       "\n",
       "             target  \n",
       "count  90000.000000  \n",
       "mean      50.033981  \n",
       "std       28.897243  \n",
       "min        0.002634  \n",
       "25%       25.091903  \n",
       "50%       50.030705  \n",
       "75%       75.059454  \n",
       "max       99.999482  \n",
       "\n",
       "[8 rows x 54 columns]"
      ]
     },
     "execution_count": 3,
     "metadata": {},
     "output_type": "execute_result"
    }
   ],
   "source": [
    "#Exploring data\n",
    "\"\"\"\n",
    "There are 53 features in the data, but some of them seem to have very similar information, \n",
    "with some metrics being exactly the same. This suggests that the data may not be naturally occurring,\n",
    "but instead may have been artificially generated. \n",
    "The presence of artificially generated features with similar information and identical metrics could\n",
    "potentially have a negative impact on the accuracy of the model, as these features may not have a \n",
    "linear relationship with the target variable.\n",
    "\"\"\"\n",
    "df_train.describe()"
   ]
  },
  {
   "cell_type": "code",
   "execution_count": 4,
   "id": "7c3c5036",
   "metadata": {},
   "outputs": [
    {
     "name": "stdout",
     "output_type": "stream",
     "text": [
      "<class 'pandas.core.frame.DataFrame'>\n",
      "RangeIndex: 90000 entries, 0 to 89999\n",
      "Data columns (total 54 columns):\n",
      " #   Column  Non-Null Count  Dtype  \n",
      "---  ------  --------------  -----  \n",
      " 0   0       90000 non-null  int64  \n",
      " 1   1       90000 non-null  int64  \n",
      " 2   2       90000 non-null  int64  \n",
      " 3   3       90000 non-null  int64  \n",
      " 4   4       90000 non-null  int64  \n",
      " 5   5       90000 non-null  int64  \n",
      " 6   6       90000 non-null  float64\n",
      " 7   7       90000 non-null  float64\n",
      " 8   8       90000 non-null  int64  \n",
      " 9   9       90000 non-null  int64  \n",
      " 10  10      90000 non-null  int64  \n",
      " 11  11      90000 non-null  int64  \n",
      " 12  12      90000 non-null  int64  \n",
      " 13  13      90000 non-null  float64\n",
      " 14  14      90000 non-null  float64\n",
      " 15  15      90000 non-null  float64\n",
      " 16  16      90000 non-null  float64\n",
      " 17  17      90000 non-null  float64\n",
      " 18  18      90000 non-null  float64\n",
      " 19  19      90000 non-null  float64\n",
      " 20  20      90000 non-null  float64\n",
      " 21  21      90000 non-null  float64\n",
      " 22  22      90000 non-null  float64\n",
      " 23  23      90000 non-null  float64\n",
      " 24  24      90000 non-null  float64\n",
      " 25  25      90000 non-null  float64\n",
      " 26  26      90000 non-null  float64\n",
      " 27  27      90000 non-null  float64\n",
      " 28  28      90000 non-null  float64\n",
      " 29  29      90000 non-null  float64\n",
      " 30  30      90000 non-null  float64\n",
      " 31  31      90000 non-null  float64\n",
      " 32  32      90000 non-null  float64\n",
      " 33  33      90000 non-null  float64\n",
      " 34  34      90000 non-null  float64\n",
      " 35  35      90000 non-null  float64\n",
      " 36  36      90000 non-null  float64\n",
      " 37  37      90000 non-null  float64\n",
      " 38  38      90000 non-null  float64\n",
      " 39  39      90000 non-null  float64\n",
      " 40  40      90000 non-null  float64\n",
      " 41  41      90000 non-null  float64\n",
      " 42  42      90000 non-null  float64\n",
      " 43  43      90000 non-null  float64\n",
      " 44  44      90000 non-null  float64\n",
      " 45  45      90000 non-null  float64\n",
      " 46  46      90000 non-null  float64\n",
      " 47  47      90000 non-null  float64\n",
      " 48  48      90000 non-null  float64\n",
      " 49  49      90000 non-null  float64\n",
      " 50  50      90000 non-null  float64\n",
      " 51  51      90000 non-null  float64\n",
      " 52  52      90000 non-null  float64\n",
      " 53  target  90000 non-null  float64\n",
      "dtypes: float64(43), int64(11)\n",
      "memory usage: 37.1 MB\n"
     ]
    }
   ],
   "source": [
    "#No missing data. Only float or integer values\n",
    "df_train.info()"
   ]
  },
  {
   "cell_type": "code",
   "execution_count": 5,
   "id": "4481c65e",
   "metadata": {},
   "outputs": [],
   "source": [
    "# Creating Feature and target datasets"
   ]
  },
  {
   "cell_type": "code",
   "execution_count": 6,
   "id": "5cd12bfa",
   "metadata": {},
   "outputs": [],
   "source": [
    "X = df_train.drop('target',axis=1)\n",
    "y = df_train['target']"
   ]
  },
  {
   "cell_type": "code",
   "execution_count": 7,
   "id": "25cba0e3",
   "metadata": {},
   "outputs": [],
   "source": [
    "#Spliting datasets into traine and test subsets"
   ]
  },
  {
   "cell_type": "code",
   "execution_count": 8,
   "id": "2d58e1f6",
   "metadata": {},
   "outputs": [],
   "source": [
    "X_train, X_test, y_train, y_test = train_test_split(X, y, test_size=0.3, random_state=42)"
   ]
  },
  {
   "cell_type": "code",
   "execution_count": 9,
   "id": "17bce0a5",
   "metadata": {},
   "outputs": [],
   "source": [
    "#Importing Linear regression model. Fitting and predicting"
   ]
  },
  {
   "cell_type": "code",
   "execution_count": 10,
   "id": "83fbb478",
   "metadata": {},
   "outputs": [],
   "source": [
    "from sklearn.linear_model import LinearRegression"
   ]
  },
  {
   "cell_type": "code",
   "execution_count": 11,
   "id": "d873ce2c",
   "metadata": {},
   "outputs": [],
   "source": [
    "model = LinearRegression()"
   ]
  },
  {
   "cell_type": "code",
   "execution_count": 12,
   "id": "113f5e4d",
   "metadata": {},
   "outputs": [
    {
     "data": {
      "text/plain": [
       "LinearRegression()"
      ]
     },
     "execution_count": 12,
     "metadata": {},
     "output_type": "execute_result"
    }
   ],
   "source": [
    "model.fit(X_train, y_train)"
   ]
  },
  {
   "cell_type": "code",
   "execution_count": 13,
   "id": "13706a50",
   "metadata": {},
   "outputs": [],
   "source": [
    "predictions = model.predict(X_test)"
   ]
  },
  {
   "cell_type": "code",
   "execution_count": 14,
   "id": "fb956b3a",
   "metadata": {},
   "outputs": [],
   "source": [
    "from sklearn.metrics import mean_squared_error"
   ]
  },
  {
   "cell_type": "code",
   "execution_count": 15,
   "id": "5dd068b9",
   "metadata": {},
   "outputs": [],
   "source": [
    "#Measure accuracy"
   ]
  },
  {
   "cell_type": "code",
   "execution_count": 16,
   "id": "2c32b810",
   "metadata": {},
   "outputs": [
    {
     "data": {
      "text/plain": [
       "28.939865868423546"
      ]
     },
     "execution_count": 16,
     "metadata": {},
     "output_type": "execute_result"
    }
   ],
   "source": [
    "RMSE = np.sqrt(mean_squared_error(y_test,predictions))\n",
    "RMSE"
   ]
  },
  {
   "cell_type": "code",
   "execution_count": 17,
   "id": "f39ce458",
   "metadata": {},
   "outputs": [],
   "source": [
    "mean = predictions.mean()"
   ]
  },
  {
   "cell_type": "code",
   "execution_count": 18,
   "id": "20f2f12d",
   "metadata": {},
   "outputs": [
    {
     "data": {
      "text/plain": [
       "0.5772759846807012"
      ]
     },
     "execution_count": 18,
     "metadata": {},
     "output_type": "execute_result"
    }
   ],
   "source": [
    "#Very bad output. Regression model seems to be helpless\n",
    "RMSE/mean"
   ]
  },
  {
   "cell_type": "code",
   "execution_count": 19,
   "id": "86590dd8",
   "metadata": {},
   "outputs": [
    {
     "data": {
      "text/plain": [
       "<AxesSubplot:xlabel='target', ylabel='Count'>"
      ]
     },
     "execution_count": 19,
     "metadata": {},
     "output_type": "execute_result"
    },
    {
     "data": {
      "image/png": "[encoded data removed]",
      "text/plain": [
       "<Figure size 640x480 with 1 Axes>"
      ]
     },
     "metadata": {},
     "output_type": "display_data"
    }
   ],
   "source": [
    "#How target is distributed? It seems like it is not a normal distribution\n",
    "sns.histplot(data=df_train, x='target')"
   ]
  },
  {
   "cell_type": "code",
   "execution_count": 20,
   "id": "77b42841",
   "metadata": {},
   "outputs": [],
   "source": [
    "residuals = y_test-predictions"
   ]
  },
  {
   "cell_type": "code",
   "execution_count": 21,
   "id": "45378771",
   "metadata": {},
   "outputs": [
    {
     "data": {
      "image/png": "[encoded data removed]",
      "text/plain": [
       "<Figure size 640x480 with 1 Axes>"
      ]
     },
     "metadata": {},
     "output_type": "display_data"
    },
    {
     "data": {
      "image/png": "[encoded data removed]",
      "text/plain": [
       "<Figure size 640x480 with 1 Axes>"
      ]
     },
     "metadata": {},
     "output_type": "display_data"
    }
   ],
   "source": [
    "\"\"\"\n",
    "How residuals are distributed? \n",
    "It is not a normal distribution! The variance of the residuals is constant across\n",
    "he range of the target variable.\n",
    "If the target variable in a regression problem is evenly distributed over the range and does not follow\n",
    "a normal distribution, then linear regression models might not be the best choice, as they assume \n",
    "a linear relationship between the target variable and the predictor variables, and they also assume that the \n",
    "residuals are normally distributed.\n",
    "\"\"\"\n",
    "\n",
    "sns.histplot(data=residuals)\n",
    "\n",
    "plt.figure()\n",
    "ax = sns.scatterplot(x=y_test, y=residuals)\n",
    "ax.set_xlim([0, 200]) # set x-axis limits\n",
    "ax.set_ylim([-60, 60]) # set y-axis limits\n",
    "plt.axhline(y=0, color='r')\n",
    "plt.show()"
   ]
  },
  {
   "cell_type": "code",
   "execution_count": 23,
   "id": "55222159",
   "metadata": {},
   "outputs": [
    {
     "data": {
      "text/plain": [
       "'\\nLets consider using other regression model that is more flexible and can capture nonlinear relationships \\nbetween the variables. For instance, Recurrent Neural Networks (RNN)\\n'"
      ]
     },
     "execution_count": 23,
     "metadata": {},
     "output_type": "execute_result"
    }
   ],
   "source": [
    "\"\"\"\n",
    "Lets consider using other regression model that is more flexible and can capture nonlinear relationships \n",
    "between the variables. For instance, Recurrent Neural Networks (RNN)\n",
    "\"\"\""
   ]
  },
  {
   "cell_type": "code",
   "execution_count": 24,
   "id": "e45f8000",
   "metadata": {},
   "outputs": [],
   "source": [
    "#Import TensorFlow\n",
    "import tensorflow as tf"
   ]
  },
  {
   "cell_type": "code",
   "execution_count": 25,
   "id": "f9678496",
   "metadata": {},
   "outputs": [
    {
     "name": "stdout",
     "output_type": "stream",
     "text": [
      "Epoch 1/50\n",
      "1969/1969 [==============================] - 9s 4ms/step - loss: 25.8510 - mae: 25.8510\n",
      "Epoch 2/50\n",
      "1969/1969 [==============================] - 7s 3ms/step - loss: 25.4432 - mae: 25.4432\n",
      "Epoch 3/50\n",
      "1969/1969 [==============================] - 7s 3ms/step - loss: 25.3403 - mae: 25.3403\n",
      "Epoch 4/50\n",
      "1969/1969 [==============================] - 7s 3ms/step - loss: 25.2769 - mae: 25.2769\n",
      "Epoch 5/50\n",
      "1969/1969 [==============================] - 7s 3ms/step - loss: 25.1187 - mae: 25.1187\n",
      "Epoch 6/50\n",
      "1969/1969 [==============================] - 7s 4ms/step - loss: 9.6435 - mae: 9.6435\n",
      "Epoch 7/50\n",
      "1969/1969 [==============================] - 7s 4ms/step - loss: 3.6001 - mae: 3.6001\n",
      "Epoch 8/50\n",
      "1969/1969 [==============================] - 7s 4ms/step - loss: 3.4043 - mae: 3.4043\n",
      "Epoch 9/50\n",
      "1969/1969 [==============================] - 7s 4ms/step - loss: 3.1243 - mae: 3.1243\n",
      "Epoch 10/50\n",
      "1969/1969 [==============================] - 7s 4ms/step - loss: 3.0952 - mae: 3.0952\n",
      "Epoch 11/50\n",
      "1969/1969 [==============================] - 6s 3ms/step - loss: 2.8666 - mae: 2.8666\n",
      "Epoch 12/50\n",
      "1969/1969 [==============================] - 7s 4ms/step - loss: 2.7863 - mae: 2.7863\n",
      "Epoch 13/50\n",
      "1969/1969 [==============================] - 7s 3ms/step - loss: 2.6351 - mae: 2.6351\n",
      "Epoch 14/50\n",
      "1969/1969 [==============================] - 7s 3ms/step - loss: 2.5009 - mae: 2.5009\n",
      "Epoch 15/50\n",
      "1969/1969 [==============================] - 7s 4ms/step - loss: 2.3258 - mae: 2.3258\n",
      "Epoch 16/50\n",
      "1969/1969 [==============================] - 7s 3ms/step - loss: 2.1838 - mae: 2.1838\n",
      "Epoch 17/50\n",
      "1969/1969 [==============================] - 7s 4ms/step - loss: 2.0820 - mae: 2.0820\n",
      "Epoch 18/50\n",
      "1969/1969 [==============================] - 7s 4ms/step - loss: 1.9206 - mae: 1.9206\n",
      "Epoch 19/50\n",
      "1969/1969 [==============================] - 6s 3ms/step - loss: 1.8771 - mae: 1.8771\n",
      "Epoch 20/50\n",
      "1969/1969 [==============================] - 7s 3ms/step - loss: 1.7124 - mae: 1.7124\n",
      "Epoch 21/50\n",
      "1969/1969 [==============================] - 6s 3ms/step - loss: 1.6059 - mae: 1.6059\n",
      "Epoch 22/50\n",
      "1969/1969 [==============================] - 7s 3ms/step - loss: 1.5397 - mae: 1.5397\n",
      "Epoch 23/50\n",
      "1969/1969 [==============================] - 7s 3ms/step - loss: 1.4579 - mae: 1.4579\n",
      "Epoch 24/50\n",
      "1969/1969 [==============================] - 7s 4ms/step - loss: 1.3412 - mae: 1.3412\n",
      "Epoch 25/50\n",
      "1969/1969 [==============================] - 7s 3ms/step - loss: 1.2341 - mae: 1.2341\n",
      "Epoch 26/50\n",
      "1969/1969 [==============================] - 7s 3ms/step - loss: 1.2322 - mae: 1.2322\n",
      "Epoch 27/50\n",
      "1969/1969 [==============================] - 7s 3ms/step - loss: 1.1810 - mae: 1.1810\n",
      "Epoch 28/50\n",
      "1969/1969 [==============================] - 7s 4ms/step - loss: 1.1981 - mae: 1.1981\n",
      "Epoch 29/50\n",
      "1969/1969 [==============================] - 7s 4ms/step - loss: 1.1408 - mae: 1.1408\n",
      "Epoch 30/50\n",
      "1969/1969 [==============================] - 7s 3ms/step - loss: 1.0489 - mae: 1.0489\n",
      "Epoch 31/50\n",
      "1969/1969 [==============================] - 7s 3ms/step - loss: 1.0849 - mae: 1.0849\n",
      "Epoch 32/50\n",
      "1969/1969 [==============================] - 7s 4ms/step - loss: 1.0138 - mae: 1.0138\n",
      "Epoch 33/50\n",
      "1969/1969 [==============================] - 7s 3ms/step - loss: 1.0097 - mae: 1.0097\n",
      "Epoch 34/50\n",
      "1969/1969 [==============================] - 7s 4ms/step - loss: 0.9852 - mae: 0.9852\n",
      "Epoch 35/50\n",
      "1969/1969 [==============================] - 6s 3ms/step - loss: 0.9701 - mae: 0.9701\n",
      "Epoch 36/50\n",
      "1969/1969 [==============================] - 7s 4ms/step - loss: 0.9901 - mae: 0.9901\n",
      "Epoch 37/50\n",
      "1969/1969 [==============================] - 7s 3ms/step - loss: 0.9791 - mae: 0.9791\n",
      "Epoch 38/50\n",
      "1969/1969 [==============================] - 7s 4ms/step - loss: 0.9963 - mae: 0.9963\n",
      "Epoch 39/50\n",
      "1969/1969 [==============================] - 7s 4ms/step - loss: 0.9555 - mae: 0.9555\n",
      "Epoch 40/50\n",
      "1969/1969 [==============================] - 7s 3ms/step - loss: 0.9745 - mae: 0.9745\n",
      "Epoch 41/50\n",
      "1969/1969 [==============================] - 7s 3ms/step - loss: 0.9607 - mae: 0.9607\n",
      "Epoch 42/50\n",
      "1969/1969 [==============================] - 7s 3ms/step - loss: 0.9432 - mae: 0.9432\n",
      "Epoch 43/50\n",
      "1969/1969 [==============================] - 7s 3ms/step - loss: 0.9459 - mae: 0.9459\n",
      "Epoch 44/50\n",
      "1969/1969 [==============================] - 7s 3ms/step - loss: 0.9808 - mae: 0.9808\n",
      "Epoch 45/50\n",
      "1969/1969 [==============================] - 7s 3ms/step - loss: 0.9193 - mae: 0.9193\n",
      "Epoch 46/50\n",
      "1969/1969 [==============================] - 7s 4ms/step - loss: 0.9280 - mae: 0.9280\n",
      "Epoch 47/50\n",
      "1969/1969 [==============================] - 7s 4ms/step - loss: 0.9289 - mae: 0.9289\n",
      "Epoch 48/50\n",
      "1969/1969 [==============================] - 7s 4ms/step - loss: 0.8893 - mae: 0.8893\n",
      "Epoch 49/50\n",
      "1969/1969 [==============================] - 7s 4ms/step - loss: 0.9008 - mae: 0.9008\n",
      "Epoch 50/50\n",
      "1969/1969 [==============================] - 7s 3ms/step - loss: 0.8573 - mae: 0.8573\n",
      "844/844 [==============================] - 2s 2ms/step\n",
      "0.9425082944834386\n"
     ]
    }
   ],
   "source": [
    "import tensorflow as tf\n",
    "import numpy as np\n",
    "import matplotlib.pyplot as plt\n",
    "import pandas as pd\n",
    "from sklearn.model_selection import train_test_split\n",
    "from sklearn.metrics import mean_squared_error\n",
    "df = pd.read_csv(\"C:\\\\Users\\\\Oleksii\\\\py\\\\Quantum\\\\Quantum internship\\\\internship_train.csv\")\n",
    "\n",
    "X = df.drop('target',axis=1)\n",
    "y = df['target']\n",
    "\n",
    "X_train, X_test, y_train, y_test = train_test_split(X, y, test_size=0.3, random_state=42)\n",
    "\n",
    "tf.random.set_seed(42)\n",
    "\n",
    "model = tf.keras.Sequential([\n",
    "    tf.keras.layers.Dense(100, activation='relu'),\n",
    "    tf.keras.layers.Dense(100, activation='relu'),\n",
    "    tf.keras.layers.Dense(100, activation='relu'),\n",
    "    tf.keras.layers.Dense(1)\n",
    "])\n",
    "\n",
    "model.compile(loss=tf.keras.losses.mae,\n",
    "              optimizer=tf.keras.optimizers.Adam(learning_rate=0.001),\n",
    "              metrics=['mae'])\n",
    "\n",
    "model.fit(X_train, y_train, epochs=50)\n",
    "\n",
    "y_pred = model.predict(X_test)\n",
    "\n",
    "rmse = np.sqrt(mean_squared_error(y_test, y_pred))\n",
    "\n"
   ]
  },
  {
   "cell_type": "code",
   "execution_count": 28,
   "id": "2c30c68c",
   "metadata": {},
   "outputs": [
    {
     "name": "stdout",
     "output_type": "stream",
     "text": [
      "RMSE:0.9425082944834386\n"
     ]
    }
   ],
   "source": [
    "print(f'RMSE:{rmse}')"
   ]
  },
  {
   "cell_type": "code",
   "execution_count": null,
   "id": "d99abb41",
   "metadata": {},
   "outputs": [],
   "source": [
    "#Much better result!"
   ]
  },
  {
   "cell_type": "code",
   "execution_count": 39,
   "id": "75ef4ee6",
   "metadata": {},
   "outputs": [
    {
     "name": "stdout",
     "output_type": "stream",
     "text": [
      "2813/2813 [==============================] - 7s 2ms/step\n"
     ]
    }
   ],
   "source": [
    "#predicting values and save into csv\n",
    "predictions = model.predict(X)\n",
    "predictions = pd.DataFrame(predictions, columns=['target'])\n",
    "predictions.to_csv('predictions.csv', index=False)"
   ]
  },
  {
   "cell_type": "code",
   "execution_count": null,
   "id": "edc53260",
   "metadata": {},
   "outputs": [],
   "source": []
  }
 ],
 "metadata": {
  "kernelspec": {
   "display_name": "Python 3 (ipykernel)",
   "language": "python",
   "name": "python3"
  },
  "language_info": {
   "codemirror_mode": {
    "name": "ipython",
    "version": 3
   },
   "file_extension": ".py",
   "mimetype": "text/x-python",
   "name": "python",
   "nbconvert_exporter": "python",
   "pygments_lexer": "ipython3",
   "version": "3.9.13"
  }
 },
 "nbformat": 4,
 "nbformat_minor": 5
}
